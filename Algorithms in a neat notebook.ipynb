{
 "cells": [
  {
   "cell_type": "markdown",
   "metadata": {},
   "source": [
    "# Algorithmns in a neat notebook\n",
    "---"
   ]
  },
  {
   "cell_type": "markdown",
   "metadata": {},
   "source": [
    "## Linear Search\n",
    "> attributes:\n",
    "> \n",
    "> Big O time complexity is = n \\\n",
    "> Space Complexity is = 1 \\\n",
    "\n",
    "Useful for:\n",
    "> Going through a short list or going through your contacts list\n",
    "\n",
    "### Code:"
   ]
  },
  {
   "cell_type": "markdown",
   "metadata": {},
   "source": [
    "Algorithmn"
   ]
  },
  {
   "cell_type": "code",
   "execution_count": 16,
   "metadata": {},
   "outputs": [],
   "source": [
    "def search(array, target):\n",
    "    for i in range(0, len(array)):\n",
    "        if array[i] == target:\n",
    "            print(f'Found at index {i}')\n"
   ]
  },
  {
   "cell_type": "markdown",
   "metadata": {},
   "source": [
    "Then your array"
   ]
  },
  {
   "cell_type": "code",
   "execution_count": 17,
   "metadata": {},
   "outputs": [],
   "source": [
    "array = [0,1,2,3,4,5,6,7,8,9,10,11,12]"
   ]
  },
  {
   "cell_type": "markdown",
   "metadata": {},
   "source": [
    "Finally the algorithm"
   ]
  },
  {
   "cell_type": "code",
   "execution_count": 18,
   "metadata": {},
   "outputs": [
    {
     "name": "stdout",
     "output_type": "stream",
     "text": [
      "Found at index 3\n"
     ]
    }
   ],
   "source": [
    "search(array, 3)"
   ]
  },
  {
   "cell_type": "markdown",
   "metadata": {},
   "source": [
    "---\n",
    "\n",
    "## First In First Out queue\n",
    "Attributes:\n",
    "> Space complexity = 1 \\\n",
    "> Time Complexity = n \\\n",
    "\n",
    "Use:\n",
    "> Music Queue \\\n",
    "> Program queue \\\n",
    "> almost endless possiblilites for such a simple algorithm\n"
   ]
  },
  {
   "cell_type": "code",
   "execution_count": 19,
   "metadata": {},
   "outputs": [],
   "source": [
    "queue = []\n",
    "def enqueue(x): #add to queue\n",
    "    queue.append(x)\n",
    "    print(f'Queued {x}')\n",
    "def dequeue(x): #remove from queue\n",
    "    queue.remove(x)\n",
    "    print(f'Dequeued {x}')\n",
    "def size(queue): #size of queue\n",
    "    print(f'The list has {len(queue)} part/s ')\n",
    "def get(i): #get item from queue\n",
    "    print(queue[i])\n",
    "def insert(i,x): #insert item at ith position\n",
    "    queue.insert(i,x)\n",
    "def remove(i): #remove item at ith position\n",
    "    queue.pop(i)\n",
    "\n"
   ]
  },
  {
   "cell_type": "code",
   "execution_count": 20,
   "metadata": {},
   "outputs": [
    {
     "name": "stdout",
     "output_type": "stream",
     "text": [
      "Queued Hello There\n",
      "['Hello There']\n",
      "Dequeued Hello There\n",
      "[]\n"
     ]
    }
   ],
   "source": [
    "enqueue('Hello There')\n",
    "print(queue)\n",
    "dequeue('Hello There')\n",
    "print(queue)"
   ]
  },
  {
   "cell_type": "code",
   "execution_count": 21,
   "metadata": {},
   "outputs": [
    {
     "name": "stdout",
     "output_type": "stream",
     "text": [
      "Queued Hello There\n",
      "The list has 1 part/s \n"
     ]
    }
   ],
   "source": [
    "enqueue('Hello There')\n",
    "size(queue)"
   ]
  },
  {
   "cell_type": "code",
   "execution_count": null,
   "metadata": {},
   "outputs": [],
   "source": []
  }
 ],
 "metadata": {
  "interpreter": {
   "hash": "f94875dc8e346374056e8d7b9f74068fecba6b93fc7b2905c93f3386085adc3e"
  },
  "kernelspec": {
   "display_name": "Python 3.7.9 64-bit",
   "language": "python",
   "name": "python3"
  },
  "language_info": {
   "codemirror_mode": {
    "name": "ipython",
    "version": 3
   },
   "file_extension": ".py",
   "mimetype": "text/x-python",
   "name": "python",
   "nbconvert_exporter": "python",
   "pygments_lexer": "ipython3",
   "version": "3.7.9"
  },
  "orig_nbformat": 4
 },
 "nbformat": 4,
 "nbformat_minor": 2
}
